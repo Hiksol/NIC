{
  "nbformat": 4,
  "nbformat_minor": 0,
  "metadata": {
    "colab": {
      "provenance": []
    },
    "kernelspec": {
      "name": "python3",
      "display_name": "Python 3"
    },
    "language_info": {
      "name": "python"
    }
  },
  "cells": [
    {
      "cell_type": "code",
      "execution_count": 1,
      "metadata": {
        "colab": {
          "base_uri": "https://localhost:8080/"
        },
        "id": "VTRJIzuXr2bA",
        "outputId": "a940e64a-0856-4b22-a8db-1e593abfbfd0"
      },
      "outputs": [
        {
          "output_type": "stream",
          "name": "stdout",
          "text": [
            "[[1 1 1 1 1 1 1 1 1 1 1 1 1 1 1 1 1 1 1 1 1 1 1 1 1 1 1 1 1 1 1]\n",
            " [0 0 0 0 0 0 0 0 0 0 0 0 0 0 1 0 0 0 0 0 0 0 1 0 0 0 0 0 0 0 1]\n",
            " [1 0 1 1 1 0 1 1 1 1 1 1 1 0 1 1 1 0 1 1 1 0 1 1 1 0 1 1 1 1 1]\n",
            " [1 0 1 0 0 0 1 0 0 0 0 0 1 0 0 0 0 0 1 0 1 0 0 0 1 0 0 0 0 0 1]\n",
            " [1 0 1 1 1 1 1 0 1 1 1 0 1 1 1 1 1 1 1 0 1 1 1 0 1 1 1 1 1 0 1]\n",
            " [1 0 0 0 0 0 0 0 0 0 1 0 0 0 0 0 1 0 0 0 0 0 1 0 1 0 0 0 0 0 1]\n",
            " [1 0 1 1 1 1 1 1 1 1 1 1 1 1 1 0 1 0 1 0 1 1 1 0 1 0 1 1 1 0 1]\n",
            " [1 0 0 0 1 0 1 0 0 0 1 0 0 0 0 0 1 0 1 0 1 0 0 0 0 0 1 0 1 0 1]\n",
            " [1 1 1 0 1 0 1 0 1 0 1 0 1 1 1 1 1 0 1 0 1 0 1 1 1 1 1 0 1 0 1]\n",
            " [1 0 0 0 0 0 1 0 1 0 0 0 1 0 0 0 0 0 1 0 1 0 1 0 0 0 1 0 0 0 1]\n",
            " [1 0 1 1 1 1 1 0 1 1 1 1 1 1 1 0 1 1 1 1 1 0 1 0 1 0 1 1 1 1 1]\n",
            " [1 0 1 0 1 0 0 0 1 0 0 0 0 0 0 0 1 0 0 0 0 0 1 0 1 0 0 0 0 0 1]\n",
            " [1 0 1 0 1 0 1 1 1 1 1 1 1 0 1 1 1 0 1 1 1 1 1 0 1 1 1 1 1 0 1]\n",
            " [1 0 1 0 1 0 0 0 0 0 0 0 1 0 1 0 0 0 1 0 0 0 1 0 1 0 1 0 0 0 1]\n",
            " [1 0 1 0 1 1 1 1 1 1 1 0 1 0 1 0 1 1 1 1 1 0 1 0 1 0 1 0 1 1 1]\n",
            " [1 0 0 0 1 0 0 0 0 0 1 0 1 0 0 0 1 0 0 0 0 0 1 0 1 0 1 0 0 0 1]\n",
            " [1 1 1 0 1 1 1 0 1 0 1 0 1 0 1 1 1 0 1 0 1 0 1 0 1 0 1 1 1 0 1]\n",
            " [1 0 1 0 1 0 0 0 1 0 1 0 1 0 0 0 1 0 1 0 1 0 1 0 1 0 0 0 1 0 1]\n",
            " [1 0 1 0 1 0 1 1 1 0 1 0 1 1 1 0 1 1 1 0 1 1 1 0 1 0 1 1 1 0 1]\n",
            " [1 0 1 0 1 0 1 0 0 0 1 0 1 0 1 0 0 0 1 0 1 0 0 0 1 0 1 0 1 0 1]\n",
            " [1 0 1 0 1 0 1 0 1 1 1 0 1 0 1 1 1 0 1 0 1 0 1 1 1 0 1 0 1 0 1]\n",
            " [1 0 1 0 0 0 1 0 1 0 0 0 1 0 0 0 0 0 0 0 1 0 1 0 0 0 1 0 0 0 1]\n",
            " [1 0 1 0 1 1 1 1 1 0 1 1 1 1 1 1 1 1 1 0 1 0 1 1 1 0 1 1 1 1 1]\n",
            " [1 0 1 0 1 0 0 0 1 0 1 0 0 0 0 0 1 0 0 0 1 0 0 0 1 0 0 0 0 0 1]\n",
            " [1 0 1 0 1 0 1 0 1 0 1 0 1 1 1 0 1 1 1 0 1 1 1 0 1 1 1 0 1 0 1]\n",
            " [1 0 1 0 1 0 1 0 0 0 1 0 1 0 1 0 0 0 1 0 0 0 1 0 0 0 0 0 1 0 1]\n",
            " [1 0 1 0 1 0 1 1 1 1 1 0 1 0 1 1 1 0 1 1 1 1 1 1 1 1 1 1 1 0 1]\n",
            " [1 0 0 0 1 0 0 0 0 0 0 0 1 0 1 0 0 0 1 0 0 0 0 0 1 0 0 0 0 0 1]\n",
            " [1 0 1 1 1 1 1 1 1 1 1 1 1 0 1 0 1 1 1 0 1 1 1 0 1 0 1 1 1 1 1]\n",
            " [1 0 0 0 0 0 0 0 0 0 0 0 0 0 1 0 0 0 0 0 0 0 1 0 0 0 0 0 0 0 0]\n",
            " [1 1 1 1 1 1 1 1 1 1 1 1 1 1 1 1 1 1 1 1 1 1 1 1 1 1 1 1 1 1 1]]\n"
          ]
        }
      ],
      "source": [
        "import numpy as np\n",
        "import random\n",
        "\n",
        "def carve_passages_from(maze, x, y):\n",
        "    maze[y, x] = 0\n",
        "    directions = [(0, -2), (0, 2), (-2, 0), (2, 0)]\n",
        "    random.shuffle(directions)\n",
        "\n",
        "    for dx, dy in directions:\n",
        "        nx, ny = x + dx, y + dy\n",
        "        if 0 < nx < maze.shape[1] and 0 < ny < maze.shape[0] and maze[ny, nx] == 1:\n",
        "            maze[y + dy//2, x + dx//2] = 0\n",
        "            carve_passages_from(maze, nx, ny)\n",
        "\n",
        "def generate_maze(width, height):\n",
        "    if width % 2 == 0 or height % 2 == 0:\n",
        "        raise ValueError(\"Width and height must be odd.\")\n",
        "\n",
        "    maze = np.ones((height, width), dtype=int)\n",
        "    start = (1, 0)\n",
        "    end = (height - 2, width - 1)\n",
        "\n",
        "    maze[start[0], start[1]] = 0\n",
        "    maze[end[0], end[1]] = 0\n",
        "\n",
        "    carve_passages_from(maze, random.randrange(1, width, 2), random.randrange(1, height, 2))\n",
        "\n",
        "    return maze\n",
        "\n",
        "def save_mazes_to_file(filename, num_mazes, width, height):\n",
        "    with open(filename, 'w') as file:\n",
        "        for i in range(num_mazes):\n",
        "            maze = generate_maze(width, height)\n",
        "            for row in maze:\n",
        "                file.write(\" \".join(str(cell) for cell in row) + \"\\n\")\n",
        "            file.write(\"\\n\")\n",
        "\n",
        "width, height = 31, 31\n",
        "save_mazes_to_file(\"output\", 1, width, height)\n",
        "maze = generate_maze(width, height)\n",
        "print(maze)"
      ]
    },
    {
      "cell_type": "markdown",
      "source": [
        "Ant Colony Optimization"
      ],
      "metadata": {
        "id": "xLSNu9EJtyxD"
      }
    },
    {
      "cell_type": "code",
      "source": [
        "def ant_colony_optimization(maze, start, end, num_ants=10, num_iterations=100, evaporation_rate=0.5, alpha=1, beta=1, max_path_length=1000):\n",
        "    height, width = maze.shape\n",
        "    pheromone = np.ones((height, width))\n",
        "    best_path = None\n",
        "    best_path_length = float('inf')\n",
        "\n",
        "    for _ in range(num_iterations):\n",
        "        paths = []\n",
        "        path_lengths = []\n",
        "\n",
        "        for ant in range(num_ants):\n",
        "            current_position = start\n",
        "            path = [current_position]\n",
        "            path_length = 0\n",
        "\n",
        "            while current_position != end and path_length < max_path_length:\n",
        "                y, x = current_position\n",
        "                neighbors = []\n",
        "                probabilities = []\n",
        "\n",
        "                for dy, dx in [(-1, 0), (1, 0), (0, -1), (0, 1)]:\n",
        "                    ny, nx = y + dy, x + dx\n",
        "                    if 0 <= ny < height and 0 <= nx < width and maze[ny, nx] == 0:\n",
        "                        neighbors.append((ny, nx))\n",
        "                        pheromone_level = pheromone[ny, nx]\n",
        "                        distance = abs(ny - end[0]) + abs(nx - end[1])\n",
        "                        if distance == 0:\n",
        "                            probability = 1.0  # Максимальная вероятность, если это финиш\n",
        "                        else:\n",
        "                            probability = (pheromone_level ** alpha) * ((1 / distance) ** beta)\n",
        "                        probabilities.append(probability)\n",
        "\n",
        "                if not neighbors:\n",
        "                    break  # Муравей застрял в тупике\n",
        "\n",
        "                probabilities = np.array(probabilities)\n",
        "                probabilities /= probabilities.sum()\n",
        "\n",
        "                next_position = neighbors[np.random.choice(len(neighbors), p=probabilities)]\n",
        "                path.append(next_position)\n",
        "                path_length += 1\n",
        "                current_position = next_position\n",
        "\n",
        "            if current_position == end:\n",
        "                paths.append(path)\n",
        "                path_lengths.append(path_length)\n",
        "\n",
        "                if path_length < best_path_length:\n",
        "                    best_path = path\n",
        "                    best_path_length = path_length\n",
        "\n",
        "        # Обновление феромонов\n",
        "        pheromone *= evaporation_rate\n",
        "\n",
        "        for path, path_length in zip(paths, path_lengths):\n",
        "            for y, x in path:\n",
        "                pheromone[y, x] += 1 / path_length\n",
        "\n",
        "    return best_path\n",
        "\n",
        "# Пример использования\n",
        "start = (1, 0)\n",
        "end = (height - 2, width - 1)\n",
        "\n",
        "solution_path = ant_colony_optimization(maze, start, end)\n",
        "\n",
        "if solution_path:\n",
        "    print(\"Решение найдено:\")\n",
        "    #for y, x in solution_path:\n",
        "    #    print(f\"({y}, {x})\")\n",
        "else:\n",
        "    print(\"Решение не найдено.\")"
      ],
      "metadata": {
        "id": "E73I0uBgtxx_",
        "colab": {
          "base_uri": "https://localhost:8080/"
        },
        "outputId": "7b75ae16-7d88-481e-88aa-67fffc87689a"
      },
      "execution_count": 3,
      "outputs": [
        {
          "output_type": "stream",
          "name": "stdout",
          "text": [
            "Решение найдено:\n"
          ]
        }
      ]
    },
    {
      "cell_type": "markdown",
      "source": [
        "Visualization"
      ],
      "metadata": {
        "id": "NWNUHM9tuihT"
      }
    },
    {
      "cell_type": "code",
      "source": [
        "import matplotlib.pyplot as plt\n",
        "\n",
        "def plot_maze_with_path(maze, path):\n",
        "    plt.figure(figsize=(5, 5))\n",
        "    plt.imshow(maze, cmap='binary')\n",
        "    if path:\n",
        "        y_coords, x_coords = zip(*path)\n",
        "        plt.plot(x_coords, y_coords, color='red', linewidth=2)\n",
        "    plt.xticks([]), plt.yticks([])\n",
        "    plt.show()\n",
        "\n",
        "plot_maze_with_path(maze, solution_path)"
      ],
      "metadata": {
        "id": "CPC98AF5ukJh",
        "colab": {
          "base_uri": "https://localhost:8080/",
          "height": 422
        },
        "outputId": "3ff41452-28ac-47ba-cadb-b748ff801b65"
      },
      "execution_count": 4,
      "outputs": [
        {
          "output_type": "display_data",
          "data": {
            "text/plain": [
              "<Figure size 500x500 with 1 Axes>"
            ],
            "image/png": "[encoded data removed]"
          },
          "metadata": {}
        }
      ]
    }
  ]
}